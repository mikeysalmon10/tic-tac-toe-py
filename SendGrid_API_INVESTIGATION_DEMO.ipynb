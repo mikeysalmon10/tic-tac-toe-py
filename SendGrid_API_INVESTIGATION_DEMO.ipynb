{
  "nbformat": 4,
  "nbformat_minor": 0,
  "metadata": {
    "colab": {
      "provenance": [],
      "include_colab_link": true
    },
    "kernelspec": {
      "name": "python3",
      "display_name": "Python 3"
    },
    "language_info": {
      "name": "python"
    }
  },
  "cells": [
    {
      "cell_type": "markdown",
      "metadata": {
        "id": "view-in-github",
        "colab_type": "text"
      },
      "source": [
        "<a href=\"https://colab.research.google.com/github/mikeysalmon10/tic-tac-toe-py/blob/main/SendGrid_API_INVESTIGATION_DEMO.ipynb\" target=\"_parent\"><img src=\"https://colab.research.google.com/assets/colab-badge.svg\" alt=\"Open In Colab\"/></a>"
      ]
    },
    {
      "cell_type": "markdown",
      "source": [
        "This notebook demonstrates how to use the [SendGrid](https://sendgrid.com/) API (and corresponding Python package) to send emails.\n",
        "\n",
        "You must first follow the [setup instructions](https://github.com/prof-rossetti/intro-to-python/blob/main/notes/python/packages/sendgrid.md) to create an account, verify your account, setup a single sender, and obtain an API Key.\n",
        "\n",
        "This setup process is tricky because sometimes SendGrid will deny your application. Try using your gmail address as the single sender, and put information related to the school (like address) as the business information.\n",
        "\n",
        "For OPIM 244, if working in a group, only one group member needs to get this set up, and can share credentials with other group members.\n"
      ],
      "metadata": {
        "id": "iPiBlViwMElX"
      }
    },
    {
      "cell_type": "markdown",
      "source": [
        "Installing (a specific version of) the package:"
      ],
      "metadata": {
        "id": "JudOBTj7NHOW"
      }
    },
    {
      "cell_type": "code",
      "source": [
        "%%capture\n",
        "!pip install sendgrid==6.5.0"
      ],
      "metadata": {
        "id": "ZAn_aiFsJmmJ"
      },
      "execution_count": null,
      "outputs": []
    },
    {
      "cell_type": "markdown",
      "source": [
        "Input secret credentials:"
      ],
      "metadata": {
        "id": "vzVqGcTNNIlK"
      }
    },
    {
      "cell_type": "code",
      "source": [
        "from getpass import getpass\n",
        "\n",
        "SENDGRID_API_KEY = getpass(\"Please input your Sendgrid API Key: \")\n",
        "SENDER_ADDRESS = getpass(\"Please input your Sender Email Address: \")"
      ],
      "metadata": {
        "id": "JjlSSRB7JOSM",
        "colab": {
          "base_uri": "https://localhost:8080/"
        },
        "outputId": "934c2346-6ce5-49a1-8691-dab4dfe6bc0e"
      },
      "execution_count": null,
      "outputs": [
        {
          "name": "stdout",
          "output_type": "stream",
          "text": [
            "Please input your Sendgrid API Key: ··········\n",
            "Please input your Sender Email Address: ··········\n"
          ]
        }
      ]
    },
    {
      "cell_type": "markdown",
      "source": [
        "Email sending helper function:"
      ],
      "metadata": {
        "id": "gvcUC8OoNLJP"
      }
    },
    {
      "cell_type": "code",
      "source": [
        "\n",
        "\n",
        "from sendgrid import SendGridAPIClient\n",
        "from sendgrid.helpers.mail import Mail\n",
        "\n",
        "def send_email(recipient_address=SENDER_ADDRESS, subject=\"[Shopping Cart App] Testing 123\", html_content=\"<p>Hello World</p>\"):\n",
        "    print(\"SENDING EMAIL TO:\", recipient_address)\n",
        "    print(\"SUBJECT:\", subject)\n",
        "    print(\"HTML:\", html_content)\n",
        "\n",
        "    client = SendGridAPIClient(SENDGRID_API_KEY)\n",
        "    print(\"CLIENT:\", type(client))\n",
        "\n",
        "    message = Mail(from_email=SENDER_ADDRESS, to_emails=recipient_address, subject=subject, html_content=html_content)\n",
        "\n",
        "    try:\n",
        "        response = client.send(message)\n",
        "\n",
        "        print(\"RESPONSE:\", type(response)) #> <class 'python_http_client.client.Response'>\n",
        "        print(response.status_code) #> 202 indicates SUCCESS\n",
        "        print(response.body)\n",
        "        print(response.headers)\n",
        "\n",
        "    except Exception as err:\n",
        "        print(type(err))\n",
        "        print(err)\n",
        "\n"
      ],
      "metadata": {
        "id": "zQbrdsIQeb5p"
      },
      "execution_count": null,
      "outputs": []
    },
    {
      "cell_type": "markdown",
      "source": [
        "Using the function to send an example email:"
      ],
      "metadata": {
        "id": "Kybq3QGtNNYd"
      }
    },
    {
      "cell_type": "code",
      "source": [
        "send_email()"
      ],
      "metadata": {
        "colab": {
          "base_uri": "https://localhost:8080/"
        },
        "id": "884JbkGEjT4u",
        "outputId": "aa852298-dcd6-423e-e81b-61b1372216f3"
      },
      "execution_count": null,
      "outputs": [
        {
          "output_type": "stream",
          "name": "stdout",
          "text": [
            "SENDING EMAIL TO: prof.mj.rossetti@gmail.com\n",
            "SUBJECT: [Shopping Cart App] Testing 123\n",
            "HTML: <p>Hello World</p>\n",
            "CLIENT: <class 'sendgrid.sendgrid.SendGridAPIClient'>\n",
            "RESPONSE: <class 'python_http_client.client.Response'>\n",
            "202\n",
            "b''\n",
            "Server: nginx\n",
            "Date: Mon, 23 Oct 2023 20:25:34 GMT\n",
            "Content-Length: 0\n",
            "Connection: close\n",
            "X-Message-Id: QUUGgb7ERcO_E2oHSHa65Q\n",
            "Access-Control-Allow-Origin: https://sendgrid.api-docs.io\n",
            "Access-Control-Allow-Methods: POST\n",
            "Access-Control-Allow-Headers: Authorization, Content-Type, On-behalf-of, x-sg-elas-acl\n",
            "Access-Control-Max-Age: 600\n",
            "X-No-CORS-Reason: https://sendgrid.com/docs/Classroom/Basics/API/cors.html\n",
            "Strict-Transport-Security: max-age=600; includeSubDomains\n",
            "\n",
            "\n"
          ]
        }
      ]
    },
    {
      "cell_type": "code",
      "source": [
        "my_content = \"\"\"\n",
        "\n",
        "    <img\n",
        "        src=\"https://img.freepik.com/free-vector/flat-ice-cream-collection_23-2148982427.jpg\"\n",
        "        alt=\"image of an ice cream\"\n",
        "        height=100\n",
        "    >\n",
        "\n",
        "    <h1>Ice Cream Shop Menu</h1>\n",
        "\n",
        "    <p>Most popular flavors:</p>\n",
        "\n",
        "    <ul>\n",
        "        <li>Vanilla Bean </li>\n",
        "        <li>Choc </li>\n",
        "        <li>Strawberry</li>\n",
        "    </ul>\n",
        "\"\"\"\n",
        "send_email(html_content=my_content)"
      ],
      "metadata": {
        "colab": {
          "base_uri": "https://localhost:8080/"
        },
        "id": "lJRx9QWkNuTc",
        "outputId": "a78da7a7-142b-4f6b-de38-d2795f182bce"
      },
      "execution_count": null,
      "outputs": [
        {
          "output_type": "stream",
          "name": "stdout",
          "text": [
            "SENDING EMAIL TO: prof.mj.rossetti@gmail.com\n",
            "SUBJECT: [Shopping Cart App] Testing 123\n",
            "HTML: \n",
            "\n",
            "    <img\n",
            "        src=\"https://img.freepik.com/free-vector/flat-ice-cream-collection_23-2148982427.jpg\"\n",
            "        alt=\"image of an ice cream\"\n",
            "        height=100\n",
            "    >\n",
            "\n",
            "    <h1>Ice Cream Shop Menu</h1>\n",
            "\n",
            "    <p>Most popular flavors:</p>\n",
            "\n",
            "    <ul>\n",
            "        <li>Vanilla Bean </li>\n",
            "        <li>Choc </li>\n",
            "        <li>Strawberry</li>\n",
            "    </ul>\n",
            "\n",
            "CLIENT: <class 'sendgrid.sendgrid.SendGridAPIClient'>\n",
            "RESPONSE: <class 'python_http_client.client.Response'>\n",
            "202\n",
            "b''\n",
            "Server: nginx\n",
            "Date: Mon, 23 Oct 2023 21:12:38 GMT\n",
            "Content-Length: 0\n",
            "Connection: close\n",
            "X-Message-Id: 9g8yQ-faT52toTQJgZOGLQ\n",
            "Access-Control-Allow-Origin: https://sendgrid.api-docs.io\n",
            "Access-Control-Allow-Methods: POST\n",
            "Access-Control-Allow-Headers: Authorization, Content-Type, On-behalf-of, x-sg-elas-acl\n",
            "Access-Control-Max-Age: 600\n",
            "X-No-CORS-Reason: https://sendgrid.com/docs/Classroom/Basics/API/cors.html\n",
            "Strict-Transport-Security: max-age=600; includeSubDomains\n",
            "\n",
            "\n"
          ]
        }
      ]
    }
  ]
}