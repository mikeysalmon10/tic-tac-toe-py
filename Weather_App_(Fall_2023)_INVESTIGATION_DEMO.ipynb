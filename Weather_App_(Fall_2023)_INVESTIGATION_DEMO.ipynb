{
  "nbformat": 4,
  "nbformat_minor": 0,
  "metadata": {
    "colab": {
      "provenance": [],
      "include_colab_link": true
    },
    "kernelspec": {
      "name": "python3",
      "display_name": "Python 3"
    }
  },
  "cells": [
    {
      "cell_type": "markdown",
      "metadata": {
        "id": "view-in-github",
        "colab_type": "text"
      },
      "source": [
        "<a href=\"https://colab.research.google.com/github/mikeysalmon10/tic-tac-toe-py/blob/main/Weather_App_(Fall_2023)_INVESTIGATION_DEMO.ipynb\" target=\"_parent\"><img src=\"https://colab.research.google.com/assets/colab-badge.svg\" alt=\"Open In Colab\"/></a>"
      ]
    },
    {
      "cell_type": "markdown",
      "metadata": {
        "id": "JTJdIe4g5RpN"
      },
      "source": [
        "This notebook demonstrates how to fetch weather forecast from the Weather.gov API."
      ]
    },
    {
      "cell_type": "markdown",
      "metadata": {
        "id": "wicRIUFNe85P"
      },
      "source": [
        "# Setup Cells"
      ]
    },
    {
      "cell_type": "markdown",
      "source": [
        "Install pgeocode package, for zipcode to lat/long conversions:"
      ],
      "metadata": {
        "id": "ZSIcDoPuII01"
      }
    },
    {
      "cell_type": "code",
      "metadata": {
        "id": "qeNc7kKfczKD"
      },
      "source": [
        "%%capture\n",
        "\n",
        "!pip install pgeocode"
      ],
      "execution_count": null,
      "outputs": []
    },
    {
      "cell_type": "markdown",
      "source": [
        "Image display examples:"
      ],
      "metadata": {
        "id": "xJ4flcRMIOFg"
      }
    },
    {
      "cell_type": "code",
      "metadata": {
        "colab": {
          "base_uri": "https://localhost:8080/",
          "height": 347
        },
        "id": "inxKPzxG_ZVs",
        "outputId": "bc2365f7-ea4a-4ff4-e2e9-c2bb623a9292"
      },
      "source": [
        "\n",
        "from IPython.display import Image, display\n",
        "\n",
        "print(\"-----------\")\n",
        "print(\"EXAMPLE IMAGES:\")\n",
        "\n",
        "print(\"-----------\")\n",
        "image_url = \"https://upload.wikimedia.org/wikipedia/commons/thumb/9/9f/Georgetown_Hoyas_logo.svg/64px-Georgetown_Hoyas_logo.svg.png\"\n",
        "display(Image(url=image_url))\n",
        "\n",
        "print(\"-----------\")\n",
        "display(Image(url=\"https://www.python.org/static/community_logos/python-powered-w-200x80.png\"))\n",
        "\n",
        "print(\"-----------\")\n",
        "display(Image(url=\"https://api.weather.gov/icons/land/day/sct?size=medium\"))\n"
      ],
      "execution_count": null,
      "outputs": [
        {
          "output_type": "stream",
          "name": "stdout",
          "text": [
            "-----------\n",
            "EXAMPLE IMAGES:\n",
            "-----------\n"
          ]
        },
        {
          "output_type": "display_data",
          "data": {
            "text/html": [
              "<img src=\"https://upload.wikimedia.org/wikipedia/commons/thumb/9/9f/Georgetown_Hoyas_logo.svg/64px-Georgetown_Hoyas_logo.svg.png\"/>"
            ],
            "text/plain": [
              "<IPython.core.display.Image object>"
            ]
          },
          "metadata": {}
        },
        {
          "output_type": "stream",
          "name": "stdout",
          "text": [
            "-----------\n"
          ]
        },
        {
          "output_type": "display_data",
          "data": {
            "text/html": [
              "<img src=\"https://www.python.org/static/community_logos/python-powered-w-200x80.png\"/>"
            ],
            "text/plain": [
              "<IPython.core.display.Image object>"
            ]
          },
          "metadata": {}
        },
        {
          "output_type": "stream",
          "name": "stdout",
          "text": [
            "-----------\n"
          ]
        },
        {
          "output_type": "display_data",
          "data": {
            "text/html": [
              "<img src=\"https://api.weather.gov/icons/land/day/sct?size=medium\"/>"
            ],
            "text/plain": [
              "<IPython.core.display.Image object>"
            ]
          },
          "metadata": {}
        }
      ]
    },
    {
      "cell_type": "markdown",
      "source": [
        "Degree sign example:"
      ],
      "metadata": {
        "id": "a35kpv6IIToA"
      }
    },
    {
      "cell_type": "code",
      "metadata": {
        "colab": {
          "base_uri": "https://localhost:8080/"
        },
        "id": "eMIXxLM8ySDn",
        "outputId": "98fa2366-a59f-4bf5-ba4a-7e5e74b9454f"
      },
      "source": [
        "\n",
        "DEGREE_SIGN = u\"\\N{DEGREE SIGN}\"\n",
        "print(f\"THE TEMPERATURE IS 90 {DEGREE_SIGN}F\")"
      ],
      "execution_count": null,
      "outputs": [
        {
          "output_type": "stream",
          "name": "stdout",
          "text": [
            "THE TEMPERATURE IS 90 °F\n"
          ]
        }
      ]
    },
    {
      "cell_type": "markdown",
      "metadata": {
        "id": "3iUh8D3N8Mv_"
      },
      "source": [
        "# Part I - Geocoder Exercise\n",
        "\n",
        "\n",
        "\n"
      ]
    },
    {
      "cell_type": "markdown",
      "metadata": {
        "id": "h6jkXiZVPkYO"
      },
      "source": [
        "For any given US zip code, lookup the corresponding geolocation, and print its **city** and **state**, as well as its **latitude** and **longitude**.\n",
        "\n",
        "> HINT: leverage the `pgeocode` package (see reference links below)\n",
        "\n",
        "\n"
      ]
    },
    {
      "cell_type": "markdown",
      "metadata": {
        "id": "wFEWPbQWgdEV"
      },
      "source": [
        "## The `pgeocode` Package\n",
        "\n",
        "Reference links:\n",
        "\n",
        "  + [Package Index](https://pypi.org/project/pgeocode/)\n",
        "  + [GitHub Repo](https://github.com/symerio/pgeocode)\n",
        "  + [Package Docs](https://pgeocode.readthedocs.io/en/latest/)\n",
        "    + [Quickstart Guide](https://pgeocode.readthedocs.io/en/latest/overview.html#quickstart)\n",
        "    + [List of Supported Country Codes](https://github.com/symerio/pgeocode#supported-countries)\n",
        "    + [`pgeocode.Nominatim`](https://pgeocode.readthedocs.io/en/latest/generated/pgeocode.Nominatim.html)\n",
        "    + [`pgeocode.Nominatim.query_postal_code()`](https://pgeocode.readthedocs.io/en/latest/generated/pgeocode.Nominatim.html#pgeocode.Nominatim.query_postal_code)"
      ]
    },
    {
      "cell_type": "code",
      "metadata": {
        "colab": {
          "base_uri": "https://localhost:8080/"
        },
        "id": "-gDqREZQPptt",
        "outputId": "2c2277c0-e0d5-4367-e454-fb88ee8373a7"
      },
      "source": [
        "\n",
        "# todo: write some python code here\n",
        "\n",
        "import pgeocode\n",
        "\n",
        "nomi = pgeocode.Nominatim('US')\n",
        "results = nomi.query_postal_code(\"20057\")\n",
        "\n",
        "print(results)\n",
        "print(type(results))"
      ],
      "execution_count": null,
      "outputs": [
        {
          "output_type": "stream",
          "name": "stdout",
          "text": [
            "postal_code                      20057\n",
            "country_code                        US\n",
            "place_name                  Washington\n",
            "state_name        District of Columbia\n",
            "state_code                          DC\n",
            "county_name       District of Columbia\n",
            "county_code                        1.0\n",
            "community_name                    None\n",
            "community_code                     NaN\n",
            "latitude                       38.8933\n",
            "longitude                     -77.0146\n",
            "accuracy                           4.0\n",
            "Name: 0, dtype: object\n",
            "<class 'pandas.core.series.Series'>\n"
          ]
        }
      ]
    },
    {
      "cell_type": "code",
      "metadata": {
        "colab": {
          "base_uri": "https://localhost:8080/"
        },
        "id": "I4hknxakQ2RD",
        "outputId": "ce6b28bb-ffb0-4475-f519-7b8082044eea"
      },
      "source": [
        "print(\"LOCATION:\", f\"{results['place_name']}, {results['state_code']}\")\n",
        "print(\"LAT:\", results[\"latitude\"])\n",
        "print(\"LON:\", results[\"longitude\"])"
      ],
      "execution_count": null,
      "outputs": [
        {
          "output_type": "stream",
          "name": "stdout",
          "text": [
            "LOCATION: Washington, DC\n",
            "LAT: 38.8933\n",
            "LON: -77.0146\n"
          ]
        }
      ]
    },
    {
      "cell_type": "markdown",
      "metadata": {
        "id": "SBDpN6TvjCaa"
      },
      "source": [
        "# Part II - Weather App\n",
        "\n",
        "\n",
        "\n",
        "\n"
      ]
    },
    {
      "cell_type": "markdown",
      "metadata": {
        "id": "keh_eF9WBtYq"
      },
      "source": [
        "\n",
        "\n",
        "## Forecast Display Helper Function\n",
        "\n",
        "Define a function to display a seven day weather forecast for any given zip code in the United States. It should  obtain its forecast data from the **Weather.gov API** (see reference links below for more info).\n",
        "\n",
        "The function should accept a zip code as a parameter input. Example function invocation:\n",
        "\n",
        "```python\n",
        "display_forecasts(\"20057\")\n",
        "```\n",
        "\n",
        "When invoked, the function should display a **seven-day weather forecast** for the provided zip code.\n",
        "\n",
        "\n",
        "Specifically, it should display **one forecast per day**. HINT: we might need to filter out the night-time forecasts, based on the period's \"isDaytime\" or \"name\" properties.\n",
        "\n",
        "The forecast for any daily period should include at least the following information:\n",
        "\n",
        "   + Print the **day of week** (e.g. \"Today\", \"Tomorrow\", \"Saturday\", etc.). HINT: let's use the period's \"name\" property.\n",
        "\n",
        "   + Print a human-readable **forecast date** (e.g. \"Jan 7, 2020\", \"2020-01-01\", etc.). HINT: we might be able to use the `datetime` module or another third-party package to do some datetime formatting on the period's \"startTime\" property. Or we can alternatively just do some [string slicing](https://www.w3schools.com/python/gloss_python_string_slice.asp) instead.\n",
        "\n",
        "   + Print the **temperature** in Farhenheit, with the temperature unit (e.g. \"64 degrees F\"). HINT: let's reference the period's \"temperature\" and \"temperatureUnit\" properties. NOTE: optionally leverage the degrees symbol provided via setup cell.\n",
        "\n",
        "   + Print the **weather condition** (e.g. sunny, cloudy, rainy, etc.). HINT: let's reference the period's \"shortForecast\" and/or \"longForecast\" properties.\n",
        "\n",
        "   + Display a **weather icon image** HINT: let's reference the period's \"image_url\" property. HINT: use the `IPython.display` module to display images, as demonstrated in the setup cell.\n",
        "\n",
        "4. The program should also explicitly tell the user **whether or not there will be rain today**. So the user can know whether or not to bring an umbrella with them today. For example, printing either \"RAIN TODAY!\" or \"NO RAIN TODAY!\". NOTE: consider any of the following terms as being an indication of rain: \"rain\", \"shower\", \"snow\", \"hail\".\n",
        "\n",
        "\n",
        "## Weather.gov API\n",
        "\n",
        "Reference Links:\n",
        "\n",
        "  + [Weather.gov API Docs](https://www.weather.gov/documentation/services-web-api)\n",
        "\n",
        "Visit the Weather.gov API documentation site. Sorry, it's a terrible government website. Click \"Examples\" and focus on the \"How do I get the forecast?\" section, to learn how to obtain the weather forecast data.\n",
        "\n",
        "> HINT: you'll need to make two requests, in a two step process:\n",
        "> 1. First, make a request to the \"points\" endpoint for a given latitude and longitude (e.g. https://api.weather.gov/points/41.3087,-72.9271), and parse the resulting response to obtain the desired forecast URL.  \n",
        "> 2. Second, make a request to the forecast url obtained during step one (e.g. https://api.weather.gov/gridpoints/OKX/65,67/forecast), and parse the resulting response to obtain the forecast data."
      ]
    },
    {
      "cell_type": "code",
      "source": [
        "zip_code = input(\"Please input a zip code (e.g. '06510'): \") or \"06510\"\n",
        "print(\"ZIP CODE:\", zip_code)"
      ],
      "metadata": {
        "colab": {
          "base_uri": "https://localhost:8080/"
        },
        "id": "V-2nHL3rIwhH",
        "outputId": "832e572b-0ef0-46f7-bda5-0a38e00389f4"
      },
      "execution_count": null,
      "outputs": [
        {
          "output_type": "stream",
          "name": "stdout",
          "text": [
            "Please input a zip code (e.g. '06510'): \n",
            "ZIP CODE: 06510\n"
          ]
        }
      ]
    },
    {
      "cell_type": "code",
      "metadata": {
        "colab": {
          "base_uri": "https://localhost:8080/"
        },
        "id": "V8V5_28elYwY",
        "outputId": "87c7876a-3b67-4732-d5a2-d106b5e64994"
      },
      "source": [
        "from pgeocode import Nominatim\n",
        "\n",
        "nomi = Nominatim('US')\n",
        "geo = nomi.query_postal_code(zip_code)\n",
        "print(\"LOCATION INFO:\")\n",
        "print(geo)"
      ],
      "execution_count": null,
      "outputs": [
        {
          "output_type": "stream",
          "name": "stdout",
          "text": [
            "LOCATION INFO:\n",
            "postal_code             06510\n",
            "country_code               US\n",
            "place_name          New Haven\n",
            "state_name        Connecticut\n",
            "state_code                 CT\n",
            "county_name         New Haven\n",
            "county_code               9.0\n",
            "community_name            NaN\n",
            "community_code            NaN\n",
            "latitude              41.3087\n",
            "longitude            -72.9271\n",
            "accuracy                  4.0\n",
            "Name: 0, dtype: object\n"
          ]
        }
      ]
    },
    {
      "cell_type": "code",
      "metadata": {
        "colab": {
          "base_uri": "https://localhost:8080/"
        },
        "id": "XTfMHYu2hy4V",
        "outputId": "8cbc82ed-a0e6-4468-8eee-f89ca21097b1"
      },
      "source": [
        "import requests\n",
        "import json\n",
        "\n",
        "latitude = geo[\"latitude\"]\n",
        "longitude = geo[\"longitude\"]\n",
        "\n",
        "request_url = f\"https://api.weather.gov/points/{latitude},{longitude}\"\n",
        "print(request_url)\n",
        "response = requests.get(request_url)\n",
        "parsed_response = json.loads(response.text)\n",
        "\n",
        "print(response.status_code)\n",
        "#parsed_response"
      ],
      "execution_count": null,
      "outputs": [
        {
          "output_type": "stream",
          "name": "stdout",
          "text": [
            "https://api.weather.gov/points/41.3087,-72.9271\n",
            "200\n"
          ]
        }
      ]
    },
    {
      "cell_type": "code",
      "metadata": {
        "id": "T0eFGgKkhyou"
      },
      "source": [
        "forecast_url = parsed_response[\"properties\"][\"forecast\"]\n",
        "print(forecast_url)\n",
        "\n",
        "forecast_response = requests.get(forecast_url)\n",
        "parsed_forecast_response = json.loads(forecast_response.text)\n",
        "#parsed_forecast_response"
      ],
      "execution_count": null,
      "outputs": []
    },
    {
      "cell_type": "code",
      "metadata": {
        "id": "_xGNuIXRpOfi"
      },
      "source": [
        "periods = parsed_forecast_response[\"properties\"][\"periods\"]\n",
        "#print(len(periods))"
      ],
      "execution_count": null,
      "outputs": []
    },
    {
      "cell_type": "code",
      "metadata": {
        "id": "P9Rb2bsqqJ0R"
      },
      "source": [
        "daytime_periods = [period for period in periods if period[\"isDaytime\"] == True]\n",
        "#print(len(daytime_periods))"
      ],
      "execution_count": null,
      "outputs": []
    },
    {
      "cell_type": "code",
      "metadata": {
        "id": "1b5vvS7mpU1k",
        "colab": {
          "base_uri": "https://localhost:8080/",
          "height": 1000
        },
        "outputId": "b6880b5e-1026-4e7a-aeae-eccd37e29216"
      },
      "source": [
        "for period in daytime_periods:\n",
        "    #print(period.keys())\n",
        "    print(\"-------------\")\n",
        "    print(period[\"name\"], period[\"startTime\"][0:7])\n",
        "    print(period[\"shortForecast\"], f\"{period['temperature']} {DEGREE_SIGN}{period['temperatureUnit']}\")\n",
        "    #print(period[\"detailedForecast\"])\n",
        "    display(Image(url=period[\"icon\"]))\n"
      ],
      "execution_count": null,
      "outputs": [
        {
          "output_type": "stream",
          "name": "stdout",
          "text": [
            "-------------\n",
            "This Afternoon 2023-10\n",
            "Sunny 61 °F\n"
          ]
        },
        {
          "output_type": "display_data",
          "data": {
            "text/html": [
              "<img src=\"https://api.weather.gov/icons/land/day/few?size=medium\"/>"
            ],
            "text/plain": [
              "<IPython.core.display.Image object>"
            ]
          },
          "metadata": {}
        },
        {
          "output_type": "stream",
          "name": "stdout",
          "text": [
            "-------------\n",
            "Tuesday 2023-10\n",
            "Sunny 62 °F\n"
          ]
        },
        {
          "output_type": "display_data",
          "data": {
            "text/html": [
              "<img src=\"https://api.weather.gov/icons/land/day/few?size=medium\"/>"
            ],
            "text/plain": [
              "<IPython.core.display.Image object>"
            ]
          },
          "metadata": {}
        },
        {
          "output_type": "stream",
          "name": "stdout",
          "text": [
            "-------------\n",
            "Wednesday 2023-10\n",
            "Mostly Sunny 68 °F\n"
          ]
        },
        {
          "output_type": "display_data",
          "data": {
            "text/html": [
              "<img src=\"https://api.weather.gov/icons/land/day/sct?size=medium\"/>"
            ],
            "text/plain": [
              "<IPython.core.display.Image object>"
            ]
          },
          "metadata": {}
        },
        {
          "output_type": "stream",
          "name": "stdout",
          "text": [
            "-------------\n",
            "Thursday 2023-10\n",
            "Mostly Sunny 73 °F\n"
          ]
        },
        {
          "output_type": "display_data",
          "data": {
            "text/html": [
              "<img src=\"https://api.weather.gov/icons/land/day/sct?size=medium\"/>"
            ],
            "text/plain": [
              "<IPython.core.display.Image object>"
            ]
          },
          "metadata": {}
        },
        {
          "output_type": "stream",
          "name": "stdout",
          "text": [
            "-------------\n",
            "Friday 2023-10\n",
            "Mostly Sunny 73 °F\n"
          ]
        },
        {
          "output_type": "display_data",
          "data": {
            "text/html": [
              "<img src=\"https://api.weather.gov/icons/land/day/sct?size=medium\"/>"
            ],
            "text/plain": [
              "<IPython.core.display.Image object>"
            ]
          },
          "metadata": {}
        },
        {
          "output_type": "stream",
          "name": "stdout",
          "text": [
            "-------------\n",
            "Saturday 2023-10\n",
            "Sunny 75 °F\n"
          ]
        },
        {
          "output_type": "display_data",
          "data": {
            "text/html": [
              "<img src=\"https://api.weather.gov/icons/land/day/few?size=medium\"/>"
            ],
            "text/plain": [
              "<IPython.core.display.Image object>"
            ]
          },
          "metadata": {}
        },
        {
          "output_type": "stream",
          "name": "stdout",
          "text": [
            "-------------\n",
            "Sunday 2023-10\n",
            "Slight Chance Rain Showers 68 °F\n"
          ]
        },
        {
          "output_type": "display_data",
          "data": {
            "text/html": [
              "<img src=\"https://api.weather.gov/icons/land/day/rain_showers?size=medium\"/>"
            ],
            "text/plain": [
              "<IPython.core.display.Image object>"
            ]
          },
          "metadata": {}
        }
      ]
    },
    {
      "cell_type": "code",
      "metadata": {
        "id": "u_QEggHREHtN"
      },
      "source": [
        "\n",
        "from pgeocode import Nominatim\n",
        "import requests\n",
        "import json\n",
        "\n",
        "\n",
        "def display_forecast(zip_code, country_code=\"US\"):\n",
        "    \"\"\"\n",
        "    Displays a seven day weather forecast for the provided zip code.\n",
        "\n",
        "    Params :\n",
        "\n",
        "        country_code (str) a valid country code (see supported country codes list). Default is \"US\".\n",
        "\n",
        "        zip_code (str) a valid US zip code, like \"20057\" or \"06510\".\n",
        "\n",
        "    \"\"\"\n",
        "\n",
        "    nomi = Nominatim(country_code)\n",
        "    geo = nomi.query_postal_code(zip_code)\n",
        "    latitude = geo[\"latitude\"]\n",
        "    longitude = geo[\"longitude\"]\n",
        "\n",
        "    request_url = f\"https://api.weather.gov/points/{latitude},{longitude}\"\n",
        "    response = requests.get(request_url)\n",
        "    #print(response.status_code)\n",
        "    parsed_response = json.loads(response.text)\n",
        "\n",
        "    forecast_url = parsed_response[\"properties\"][\"forecast\"]\n",
        "    forecast_response = requests.get(forecast_url)\n",
        "    #print(forecast_response.status_code)\n",
        "    parsed_forecast_response = json.loads(forecast_response.text)\n",
        "\n",
        "    periods = parsed_forecast_response[\"properties\"][\"periods\"]\n",
        "    daytime_periods = [period for period in periods if period[\"isDaytime\"] == True]\n",
        "\n",
        "    for period in daytime_periods:\n",
        "        #print(period.keys())\n",
        "        print(\"-------------\")\n",
        "        print(period[\"name\"], period[\"startTime\"][0:7])\n",
        "        print(period[\"shortForecast\"], f\"{period['temperature']} {degree_sign}{period['temperatureUnit']}\")\n",
        "        #print(period[\"detailedForecast\"])\n",
        "        display(Image(url=period[\"icon\"]))\n"
      ],
      "execution_count": null,
      "outputs": []
    },
    {
      "cell_type": "markdown",
      "metadata": {
        "id": "zdX1iMuGv5if"
      },
      "source": [
        "## Weather Dashboard"
      ]
    },
    {
      "cell_type": "code",
      "metadata": {
        "id": "wZzGpuiCs7Kt"
      },
      "source": [
        "my_zip = '20057'\n",
        "display_forecast(my_zip)"
      ],
      "execution_count": null,
      "outputs": []
    },
    {
      "cell_type": "code",
      "metadata": {
        "id": "C3oiaZqzs5e1"
      },
      "source": [],
      "execution_count": null,
      "outputs": []
    },
    {
      "cell_type": "code",
      "metadata": {
        "id": "xbHuI0lrs5bt"
      },
      "source": [],
      "execution_count": null,
      "outputs": []
    },
    {
      "cell_type": "code",
      "metadata": {
        "id": "9vr5CFjYs5X4"
      },
      "source": [],
      "execution_count": null,
      "outputs": []
    },
    {
      "cell_type": "code",
      "metadata": {
        "id": "fR4hC8zLs5UV"
      },
      "source": [],
      "execution_count": null,
      "outputs": []
    },
    {
      "cell_type": "code",
      "metadata": {
        "id": "EkZh6LaNs5RQ"
      },
      "source": [],
      "execution_count": null,
      "outputs": []
    },
    {
      "cell_type": "markdown",
      "metadata": {
        "id": "roUY8k4tutN7"
      },
      "source": [
        "# Demo"
      ]
    },
    {
      "cell_type": "code",
      "metadata": {
        "id": "x78A3nrks4_T"
      },
      "source": [
        "from pgeocode import Nominatim\n",
        "\n",
        "import requests\n",
        "import json\n",
        "\n",
        "from pandas import DataFrame\n",
        "\n",
        "# display images in a dataframe in colab\n",
        "# ... h/t: https://towardsdatascience.com/rendering-images-inside-a-pandas-dataframe-3631a4883f6\n",
        "from IPython.core.display import HTML\n",
        "\n",
        "\n",
        "def to_image(url):\n",
        "    return '<img src=\"'+ url + '\" width=\"32\" >'\n",
        "\n",
        "\n",
        "def chopped_date(start_time):\n",
        "    return start_time[5:10]\n",
        "\n",
        "\n",
        "def forecast_demo(zip_code, country_code=\"US\"):\n",
        "    \"\"\"\n",
        "    Displays a seven day weather forecast for the provided zip code.\n",
        "\n",
        "    Params :\n",
        "\n",
        "        country_code (str) a valid country code (see supported country codes list). Default is \"US\".\n",
        "\n",
        "        zip_code (str) a valid US zip code, like \"20057\" or \"06510\".\n",
        "\n",
        "    \"\"\"\n",
        "    nomi = Nominatim(country_code)\n",
        "    geo = nomi.query_postal_code(zip_code)\n",
        "    latitude = geo[\"latitude\"]\n",
        "    longitude = geo[\"longitude\"]\n",
        "\n",
        "    request_url = f\"https://api.weather.gov/points/{latitude},{longitude}\"\n",
        "    response = requests.get(request_url)\n",
        "    #print(response.status_code)\n",
        "    parsed_response = json.loads(response.text)\n",
        "\n",
        "    forecast_url = parsed_response[\"properties\"][\"forecast\"]\n",
        "    forecast_response = requests.get(forecast_url)\n",
        "    #print(forecast_response.status_code)\n",
        "    parsed_forecast_response = json.loads(forecast_response.text)\n",
        "\n",
        "    periods = parsed_forecast_response[\"properties\"][\"periods\"]\n",
        "    daytime_periods = [period for period in periods if period[\"isDaytime\"] == True]\n",
        "\n",
        "    #for period in daytime_periods:\n",
        "    #    #print(period.keys())\n",
        "    #    print(\"-------------\")\n",
        "    #    print(period[\"name\"], period[\"startTime\"][0:7])\n",
        "    #    print(period[\"shortForecast\"], f\"{period['temperature']} {degree_sign}{period['temperatureUnit']}\")\n",
        "    #    #print(period[\"detailedForecast\"])\n",
        "    #    display(Image(url=period[\"icon\"]))\n",
        "\n",
        "\n",
        "    df = DataFrame(daytime_periods)\n",
        "\n",
        "    df[\"date\"] = df[\"startTime\"].apply(chopped_date)\n",
        "\n",
        "    # df[\"img\"] = df[\"icon\"].apply(to_image)\n",
        "\n",
        "    # combined column for temp display\n",
        "    # ... h/t: https://stackoverflow.com/questions/19377969/combine-two-columns-of-text-in-pandas-dataframe\n",
        "    df[\"temp\"] = df[\"temperature\"].astype(str) + \" \" + degree_sign + df[\"temperatureUnit\"]\n",
        "\n",
        "    # rename cols:\n",
        "    df.rename(columns={\n",
        "        \"name\":\"day\",\n",
        "        \"shortForecast\": \"forecast\"\n",
        "    }, inplace=True)\n",
        "\n",
        "    # drop unused cols:\n",
        "    df.drop(columns=[\n",
        "        \"temperature\", \"temperatureUnit\", \"temperatureTrend\",\n",
        "        \"windSpeed\", \"windDirection\",\n",
        "        \"startTime\", \"endTime\",\n",
        "        \"number\", \"isDaytime\", \"detailedForecast\"\n",
        "    ], inplace=True)\n",
        "\n",
        "    # re-order columns:\n",
        "    df = df.reindex(columns=['day', 'date', 'temp', 'forecast', 'icon'])\n",
        "\n",
        "    # return df\n",
        "    print(\"---\")\n",
        "    print(\"SEVEN DAY FORECAST\")\n",
        "    print(\"LOCATION:\", f\"{geo.place_name}, {geo.state_code}\".upper())\n",
        "    print(\"---\")\n",
        "    return HTML(df.to_html(escape=False, formatters=dict(icon=to_image)))\n",
        "\n"
      ],
      "execution_count": null,
      "outputs": []
    },
    {
      "cell_type": "code",
      "metadata": {
        "id": "CRtpGEpHtty5"
      },
      "source": [
        "forecast_demo(\"06070\")"
      ],
      "execution_count": null,
      "outputs": []
    }
  ]
}